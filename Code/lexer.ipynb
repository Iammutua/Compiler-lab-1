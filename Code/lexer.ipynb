{
 "cells": [
  {
   "cell_type": "code",
   "execution_count": 1,
   "metadata": {},
   "outputs": [
    {
     "data": {
      "text/plain": [
       "4.0"
      ]
     },
     "execution_count": 1,
     "metadata": {},
     "output_type": "execute_result"
    }
   ],
   "source": [
    "### Group members :\n",
    "1. Salomon Metre [121891]\n",
    "2. James Mutua []\n",
    "3. \n",
    "4. "
   ]
  },
  {
   "cell_type": "code",
   "execution_count": 2,
   "metadata": {},
   "outputs": [],
   "source": [
    "import re\n",
    "import sys"
   ]
  },
  {
   "cell_type": "code",
   "execution_count": 4,
   "metadata": {},
   "outputs": [
    {
     "name": "stdout",
     "output_type": "stream",
     "text": [
      "I\n",
      "am\n",
      "a\n",
      "Student\n"
     ]
    }
   ],
   "source": [
    "def tokenize_sentence(sentence):\n",
    "    # We will use regular expressions to identify the words\n",
    "    # The word begins with a word boundary followed by zero or many word characters and ends with another boundary character\n",
    "    words = re.findall(r'\\b\\w+\\b', sentence)\n",
    "    \n",
    "    # printing each word\n",
    "    for word in words:\n",
    "        print(word)\n",
    "\n",
    "# Input sentence (taken from the user using the input function)\n",
    "input_sentence = input(\"Enter your sentence : \")\n",
    "\n",
    "# Tokenize the sentence and print the individual words\n",
    "tokenize_sentence(input_sentence)"
   ]
  }
 ],
 "metadata": {
  "kernelspec": {
   "display_name": "Python 3",
   "language": "python",
   "name": "python3"
  },
  "language_info": {
   "codemirror_mode": {
    "name": "ipython",
    "version": 3
   },
   "file_extension": ".py",
   "mimetype": "text/x-python",
   "name": "python",
   "nbconvert_exporter": "python",
   "pygments_lexer": "ipython3",
   "version": "3.10.12"
  },
  "orig_nbformat": 4
 },
 "nbformat": 4,
 "nbformat_minor": 2
}
